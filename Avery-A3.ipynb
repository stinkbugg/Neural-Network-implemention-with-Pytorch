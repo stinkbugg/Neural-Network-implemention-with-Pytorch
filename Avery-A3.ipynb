{
 "cells": [
  {
   "cell_type": "markdown",
   "metadata": {},
   "source": [
    "# NNet class in Pytorch"
   ]
  },
  {
   "cell_type": "markdown",
   "metadata": {},
   "source": [
    "In this assignment you will complete an implementation of a neural network class that uses `pytorch`.  You will then use it to conduct some training experiments on specified data.  The data will be partitioned into some number of non-intersecting folds.  You will train, validate and test neural networks of various sizes on all ways of picking one fold to be testing, one fold to be validation, and remaining folds to be training sets."
   ]
  },
  {
   "cell_type": "markdown",
   "metadata": {},
   "source": [
    "## Implementation"
   ]
  },
  {
   "cell_type": "code",
   "execution_count": 147,
   "metadata": {},
   "outputs": [],
   "source": [
    "import numpy as np\n",
    "import torch\n",
    "import pandas\n",
    "import matplotlib.pyplot as plt\n",
    "import statistics"
   ]
  },
  {
   "cell_type": "markdown",
   "metadata": {},
   "source": [
    "Complete the following definition of class `NNet` by completing its `train` and `use` functions.  These functions must be completed the *PyTorch* way, which is **not** identical to how you completed the network in A2 (though the same principles apply)!"
   ]
  },
  {
   "cell_type": "code",
   "execution_count": 148,
   "metadata": {},
   "outputs": [],
   "source": [
    "class NNet(torch.nn.Module):\n",
    "    \n",
    "    def __init__(self, n_inputs, n_hiddens_per_layer, n_outputs, act_func='tanh'):\n",
    "        super().__init__()  # call parent class (torch.nn.Module) constructor\n",
    "        \n",
    "        # Set self.n_hiddens_per_layer to [] if argument is 0, [], or [0]\n",
    "        if n_hiddens_per_layer == 0 or n_hiddens_per_layer == [] or n_hiddens_per_layer == [0]:\n",
    "            self.n_hiddens_per_layer = []\n",
    "        else:\n",
    "            self.n_hiddens_per_layer = n_hiddens_per_layer\n",
    "\n",
    "        self.hidden_layers = torch.nn.ModuleList()  # necessary for model.to('cuda')\n",
    "\n",
    "        for nh in self.n_hiddens_per_layer:\n",
    "            self.hidden_layers.append( torch.nn.Sequential(\n",
    "                torch.nn.Linear(n_inputs, nh),\n",
    "                torch.nn.Tanh() if act_func == 'tanh' else torch.nn.ReLU()))\n",
    "            \n",
    "            n_inputs = nh\n",
    "\n",
    "        self.output_layer = torch.nn.Linear(n_inputs, n_outputs)\n",
    "            \n",
    "        self.Xmeans = None\n",
    "        self.Xstds = None\n",
    "        self.Tmeans = None\n",
    "        self.Tstds = None\n",
    "\n",
    "        self.error_trace = []\n",
    "        \n",
    "    def forward(self, X):\n",
    "        Y = X\n",
    "        for hidden_layer in self.hidden_layers:\n",
    "            Y = hidden_layer(Y)\n",
    "        Y = self.output_layer(Y)\n",
    "        return Y\n",
    "\n",
    "    def train(self, X, T, n_epochs, learning_rate, verbose=True):\n",
    "\n",
    "        # Set data matrices to torch.tensors if not already.\n",
    "        if not isinstance(X, torch.Tensor):\n",
    "            X = torch.from_numpy(X).float()\n",
    "        if not isinstance(T, torch.Tensor):\n",
    "            T = torch.from_numpy(T).float()\n",
    "            \n",
    "        # Calculate standardization parameters if not already calculated\n",
    "        if self.Xmeans is None:\n",
    "            self.Xmeans = X.mean(0)\n",
    "            self.Xstds = X.std(0)\n",
    "            self.Xstds[self.Xstds == 0] = 1\n",
    "            self.Tmeans = T.mean(0)\n",
    "            self.Tstds = T.std(0)\n",
    "            self.Tstds[self.Tstds == 0] = 1\n",
    "            \n",
    "        # Standardize inputs and targets\n",
    "        X = (X - self.Xmeans) / self.Xstds\n",
    "        T = (T - self.Tmeans) / self.Tstds\n",
    "        \n",
    "        # Set optimizer to Adam and loss functions to MSELoss\n",
    "        optimizer = torch.optim.Adam(self.parameters(), lr=learning_rate)\n",
    "        mse_func = torch.nn.MSELoss()\n",
    "\n",
    "        # For each epoch:\n",
    "        #   Do forward pass to calculate output Y.\n",
    "        #   Calculate mean squared error loss, mse.\n",
    "        #   Calculate gradient of mse with respect to all weights by calling mse.backward().\n",
    "        #   Take weight update step, then zero the gradient values.\n",
    "        #   Unstandardize the mse error and save in self.error_trace\n",
    "        #   Print epoch+1 and unstandardized error if verbose is True and\n",
    "        #             (epoch+1 is n_epochs or epoch+1 % (n_epochs // 10) == 0)\n",
    "        \n",
    "        for epoch in range(n_epochs):\n",
    "\n",
    "            Y = self.forward(X)\n",
    "            mse = mse_func(T, Y)\n",
    "            mse.backward()\n",
    "\n",
    "            optimizer.step() \n",
    "            optimizer.zero_grad()\n",
    "\n",
    "            unstderr = torch.sqrt((mse * self.Tstds) + self.Tmeans).item()\n",
    "\n",
    "            self.error_trace.append(unstderr)\n",
    "\n",
    "            if verbose and (epoch + 1 is n_epochs or ((epoch + 1)//10 == 0)):\n",
    "                print(f'Epoch {epoch+1:d}: Unstderr={unstderr:f}')\n",
    "\n",
    "\n",
    "    \n",
    "    def use(self, X):\n",
    " \n",
    "       # Set input matrix to torch.tensors if not already.\n",
    "        if not isinstance(X, torch.Tensor):\n",
    "            X = torch.from_numpy(X).float()\n",
    "\n",
    "        # Standardize X\n",
    "        X = (X - self.Xmeans) / self.Xstds\n",
    "        \n",
    "        # Do forward pass and unstandardize resulting output. Assign to variable Y.\n",
    "        Y = self.forward(X)\n",
    "        Y = (Y * self.Tstds) + self.Tmeans\n",
    "        \n",
    "        # Return output Y after detaching from computation graph and converting to numpy\n",
    "        return Y.detach().numpy()\n"
   ]
  },
  {
   "cell_type": "markdown",
   "metadata": {},
   "source": [
    "## Example"
   ]
  },
  {
   "cell_type": "code",
   "execution_count": 149,
   "metadata": {},
   "outputs": [
    {
     "name": "stdout",
     "output_type": "stream",
     "text": [
      "Epoch 1: Unstderr=7.740829\n",
      "Epoch 2: Unstderr=6.353120\n",
      "Epoch 3: Unstderr=6.102252\n",
      "Epoch 4: Unstderr=6.235804\n",
      "Epoch 5: Unstderr=6.124404\n",
      "Epoch 6: Unstderr=5.936929\n",
      "Epoch 7: Unstderr=5.824565\n",
      "Epoch 8: Unstderr=5.828845\n",
      "Epoch 9: Unstderr=5.877913\n",
      "Epoch 50: Unstderr=5.776113\n",
      "RMSE 0.867\n"
     ]
    }
   ],
   "source": [
    "torch.manual_seed(42)\n",
    "np.random.seed(42)\n",
    "    \n",
    "n_samples = 10000\n",
    "X = np.linspace(0, 10, n_samples).reshape((-1, 1))\n",
    "T = X ** 2\n",
    "\n",
    "n_samples, n_inputs = X.shape \n",
    "n_outputs = T.shape[1]\n",
    "\n",
    "n_hiddens = [100, 100]\n",
    "net = NNet(n_inputs, n_hiddens, n_outputs, act_func='relu')\n",
    "net.train(X, T, 50, 0.01)\n",
    "Y = net.use(X)\n",
    "\n",
    "def rmse(Y, T):\n",
    "    return np.sqrt(np.mean((T - Y)**2))\n",
    "\n",
    "print(f'RMSE {rmse(Y, T):.3f}')"
   ]
  },
  {
   "cell_type": "code",
   "execution_count": 150,
   "metadata": {},
   "outputs": [
    {
     "data": {
      "image/png": "[encoded data removed]",
      "text/plain": [
       "<Figure size 1080x576 with 2 Axes>"
      ]
     },
     "metadata": {
      "needs_background": "light"
     },
     "output_type": "display_data"
    }
   ],
   "source": [
    "plt.figure(figsize=(15, 8))\n",
    "\n",
    "plt.subplot(1, 2, 1)\n",
    "plt.plot(T, label='T')\n",
    "plt.plot(Y, label='Y')\n",
    "plt.legend()\n",
    "\n",
    "plt.subplot(1, 2, 2)\n",
    "plt.plot(T, Y, '.')\n",
    "a = max(np.min(T), np.min(Y))\n",
    "b = min(np.max(T), np.max(Y))\n",
    "plt.plot([a, b], [a, b], lw=10, alpha=0.5)\n",
    "plt.xlabel('T')\n",
    "plt.ylabel('Y')\n",
    "plt.tight_layout()"
   ]
  },
  {
   "cell_type": "markdown",
   "metadata": {},
   "source": [
    "# Function to generate all train, validate, and test partitions given number of folds"
   ]
  },
  {
   "cell_type": "markdown",
   "metadata": {},
   "source": [
    "## Implementation"
   ]
  },
  {
   "cell_type": "markdown",
   "metadata": {},
   "source": [
    "This is complete code for `generate_k_fold_cross_validation_sets`."
   ]
  },
  {
   "cell_type": "code",
   "execution_count": 151,
   "metadata": {},
   "outputs": [],
   "source": [
    "def generate_k_fold_cross_validation_sets(X, T, n_folds, shuffle=True):\n",
    "\n",
    "    if shuffle:\n",
    "        # Randomly order X and T\n",
    "        randorder = np.arange(X.shape[0])\n",
    "        np.random.shuffle(randorder)\n",
    "        X = X[randorder, :]\n",
    "        T = T[randorder, :]\n",
    "\n",
    "    # Partition X and T into folds\n",
    "    n_samples = X.shape[0]\n",
    "    n_per_fold = round(n_samples / n_folds)\n",
    "    n_last_fold = n_samples - n_per_fold * (n_folds - 1)\n",
    "\n",
    "    folds = []\n",
    "    start = 0\n",
    "    for foldi in range(n_folds-1):\n",
    "        folds.append( (X[start:start + n_per_fold, :], T[start:start + n_per_fold, :]) )\n",
    "        start += n_per_fold\n",
    "    folds.append( (X[start:, :], T[start:, :]) )\n",
    "\n",
    "    # Yield k(k-1) assignments of Xtrain, Train, Xvalidate, Tvalidate, Xtest, Ttest\n",
    "\n",
    "    for validation_i in range(n_folds):\n",
    "        for test_i in range(n_folds):\n",
    "            if test_i == validation_i:\n",
    "                continue\n",
    "\n",
    "            train_i = np.setdiff1d(range(n_folds), [validation_i, test_i])\n",
    "\n",
    "            Xvalidate, Tvalidate = folds[validation_i]\n",
    "            Xtest, Ttest = folds[test_i]\n",
    "            if len(train_i) > 1:\n",
    "                Xtrain = np.vstack([folds[i][0] for i in train_i])\n",
    "                Ttrain = np.vstack([folds[i][1] for i in train_i])\n",
    "            else:\n",
    "                Xtrain, Ttrain = folds[train_i[0]]\n",
    "\n",
    "            yield Xtrain, Ttrain, Xvalidate, Tvalidate, Xtest, Ttest"
   ]
  },
  {
   "cell_type": "markdown",
   "metadata": {},
   "source": [
    "## Example"
   ]
  },
  {
   "cell_type": "code",
   "execution_count": 152,
   "metadata": {},
   "outputs": [
    {
     "data": {
      "text/plain": [
       "(array([[ 0,  1],\n",
       "        [ 2,  3],\n",
       "        [ 4,  5],\n",
       "        [ 6,  7],\n",
       "        [ 8,  9],\n",
       "        [10, 11]]),\n",
       " array([[ 0],\n",
       "        [10],\n",
       "        [20],\n",
       "        [30],\n",
       "        [40],\n",
       "        [50]]))"
      ]
     },
     "execution_count": 152,
     "metadata": {},
     "output_type": "execute_result"
    }
   ],
   "source": [
    "X = np.arange(2 * 6).reshape((6, 2))\n",
    "T = np.arange(6).reshape((6, 1)) * 10\n",
    "X, T"
   ]
  },
  {
   "cell_type": "code",
   "execution_count": 153,
   "metadata": {},
   "outputs": [
    {
     "name": "stdout",
     "output_type": "stream",
     "text": [
      "\n",
      "Xtrain\n",
      " [[8 9]\n",
      " [6 7]]\n",
      "Ttrain\n",
      " [[40]\n",
      " [30]]\n",
      "Xvalidate\n",
      " [[0 1]\n",
      " [2 3]]\n",
      "Tvalidate\n",
      " [[ 0]\n",
      " [10]]\n",
      "Xtest\n",
      " [[10 11]\n",
      " [ 4  5]]\n",
      "Ttest\n",
      " [[50]\n",
      " [20]]\n",
      "\n",
      "Xtrain\n",
      " [[10 11]\n",
      " [ 4  5]]\n",
      "Ttrain\n",
      " [[50]\n",
      " [20]]\n",
      "Xvalidate\n",
      " [[0 1]\n",
      " [2 3]]\n",
      "Tvalidate\n",
      " [[ 0]\n",
      " [10]]\n",
      "Xtest\n",
      " [[8 9]\n",
      " [6 7]]\n",
      "Ttest\n",
      " [[40]\n",
      " [30]]\n",
      "\n",
      "Xtrain\n",
      " [[8 9]\n",
      " [6 7]]\n",
      "Ttrain\n",
      " [[40]\n",
      " [30]]\n",
      "Xvalidate\n",
      " [[10 11]\n",
      " [ 4  5]]\n",
      "Tvalidate\n",
      " [[50]\n",
      " [20]]\n",
      "Xtest\n",
      " [[0 1]\n",
      " [2 3]]\n",
      "Ttest\n",
      " [[ 0]\n",
      " [10]]\n",
      "\n",
      "Xtrain\n",
      " [[0 1]\n",
      " [2 3]]\n",
      "Ttrain\n",
      " [[ 0]\n",
      " [10]]\n",
      "Xvalidate\n",
      " [[10 11]\n",
      " [ 4  5]]\n",
      "Tvalidate\n",
      " [[50]\n",
      " [20]]\n",
      "Xtest\n",
      " [[8 9]\n",
      " [6 7]]\n",
      "Ttest\n",
      " [[40]\n",
      " [30]]\n",
      "\n",
      "Xtrain\n",
      " [[10 11]\n",
      " [ 4  5]]\n",
      "Ttrain\n",
      " [[50]\n",
      " [20]]\n",
      "Xvalidate\n",
      " [[8 9]\n",
      " [6 7]]\n",
      "Tvalidate\n",
      " [[40]\n",
      " [30]]\n",
      "Xtest\n",
      " [[0 1]\n",
      " [2 3]]\n",
      "Ttest\n",
      " [[ 0]\n",
      " [10]]\n",
      "\n",
      "Xtrain\n",
      " [[0 1]\n",
      " [2 3]]\n",
      "Ttrain\n",
      " [[ 0]\n",
      " [10]]\n",
      "Xvalidate\n",
      " [[8 9]\n",
      " [6 7]]\n",
      "Tvalidate\n",
      " [[40]\n",
      " [30]]\n",
      "Xtest\n",
      " [[10 11]\n",
      " [ 4  5]]\n",
      "Ttest\n",
      " [[50]\n",
      " [20]]\n"
     ]
    }
   ],
   "source": [
    "np.random.seed(42)\n",
    "\n",
    "for Xtrain, Ttrain, Xvalidate, Tvalidate, Xtest, Ttest in generate_k_fold_cross_validation_sets(X, T, 3):\n",
    "    print()\n",
    "    print('Xtrain\\n', Xtrain)\n",
    "    print('Ttrain\\n', Ttrain)\n",
    "    print('Xvalidate\\n', Xvalidate)\n",
    "    print('Tvalidate\\n', Tvalidate)\n",
    "    print('Xtest\\n', Xtest)\n",
    "    print('Ttest\\n', Ttest)\n",
    "    "
   ]
  },
  {
   "cell_type": "markdown",
   "metadata": {},
   "source": [
    "# Function to train NNets and average RMSE over all ways of partitioning"
   ]
  },
  {
   "cell_type": "markdown",
   "metadata": {},
   "source": [
    "## Implementation"
   ]
  },
  {
   "cell_type": "markdown",
   "metadata": {},
   "source": [
    "Define the following function that trains neural networks of different architectures, given by `list_of_n_hiddens`, for one value each of `n_epochs`, `learning_rate`, and `act_fun`.  For each network, train on all k-fold cross-validation training sets, and calculate the RMSEs for the training, validation and test. Calculate the mean of training, validation and test RMSEs over the k-fold partitions, so that you have one training, one validation, and one test set RMSE for each network.  Append a list of the architecture and these three mean RMSEs to a list of results and return the list as a pandas DataFrame described below when done.\n",
    "\n",
    "To iterate over all k-fold partitions, use a for loop like the example in the previous code cell. Call `generate_k_fold_cross_validation_sets` with `shuffle=True`. "
   ]
  },
  {
   "cell_type": "code",
   "execution_count": 154,
   "metadata": {},
   "outputs": [],
   "source": [
    "def run_k_fold_cross_validation(X, T, n_folds, list_of_n_hiddens, \n",
    "                                n_epochs, learning_rate, act_func):\n",
    "    \n",
    "    architecture_list = []\n",
    "    train_rmse = []\n",
    "    val_rmse = []\n",
    "    test_rmse = []\n",
    "    \n",
    "    for arch in list_of_n_hiddens:\n",
    "        architecture_list.append(arch)\n",
    "        kfold_train_rmse = []\n",
    "        kfold_val_rmse = []\n",
    "        kfold_test_rmse = []\n",
    "        \n",
    "        for Xtrain, Ttrain, Xvalidate, Tvalidate, Xtest, Ttest in generate_k_fold_cross_validation_sets(X, T, 3):\n",
    "            neural_net = NNet(Xtrain.shape[1], arch, Ttrain.shape[1], act_func = act_func)\n",
    "            neural_net.train(Xtrain, Ttrain, n_epochs, learning_rate, verbose=False)\n",
    "            \n",
    "            kfold_train_rmse.append(rmse(neural_net.use(Xtrain), Ttrain))\n",
    "            kfold_val_rmse.append(rmse(neural_net.use(Xvalidate), Tvalidate))\n",
    "            kfold_test_rmse.append(rmse(neural_net.use(Xtest), Ttest))\n",
    "        \n",
    "        train_rmse.append(statistics.mean(kfold_train_rmse))\n",
    "        val_rmse.append(statistics.mean(kfold_val_rmse))\n",
    "        test_rmse.append(statistics.mean(kfold_test_rmse))\n",
    "        \n",
    "    columns=('Arch', 'Train RMSE', 'Validate RMSE', 'Test RMSE')\n",
    "    results = pandas.DataFrame({'Arch': architecture_list, 'Train RMSE': train_rmse, 'Validate RMSE': val_rmse, 'Test RMSE': test_rmse})\n",
    "    return results\n",
    "    "
   ]
  },
  {
   "cell_type": "markdown",
   "metadata": {},
   "source": [
    "## Apply to Airfoil Data"
   ]
  },
  {
   "cell_type": "markdown",
   "metadata": {},
   "source": [
    "Download `airfoil_self_noise.dat` from [Airfoil Data Website](https://archive.ics.uci.edu/ml/datasets/Airfoil+Self-Noise) and read it as shown below."
   ]
  },
  {
   "cell_type": "code",
   "execution_count": 155,
   "metadata": {},
   "outputs": [
    {
     "name": "stdout",
     "output_type": "stream",
     "text": [
      "      frequency  angle   chord  velocity  thickness  pressure\n",
      "0           800    0.0  0.3048      71.3   0.002663   126.201\n",
      "1          1000    0.0  0.3048      71.3   0.002663   125.201\n",
      "2          1250    0.0  0.3048      71.3   0.002663   125.951\n",
      "3          1600    0.0  0.3048      71.3   0.002663   127.591\n",
      "4          2000    0.0  0.3048      71.3   0.002663   127.461\n",
      "...         ...    ...     ...       ...        ...       ...\n",
      "1498       2500   15.6  0.1016      39.6   0.052849   110.264\n",
      "1499       3150   15.6  0.1016      39.6   0.052849   109.254\n",
      "1500       4000   15.6  0.1016      39.6   0.052849   106.604\n",
      "1501       5000   15.6  0.1016      39.6   0.052849   106.224\n",
      "1502       6300   15.6  0.1016      39.6   0.052849   104.204\n",
      "\n",
      "[1503 rows x 6 columns]\n"
     ]
    }
   ],
   "source": [
    "airfoil = pandas.read_csv('airfoil_self_noise.dat', delimiter='\\t',\n",
    "                          names=('frequency', 'angle', 'chord', \n",
    "                                 'velocity', 'thickness', 'pressure'))\n",
    "print(airfoil)\n",
    "X = airfoil[['frequency', 'angle', 'chord', 'velocity', 'thickness']].to_numpy()\n",
    "T = airfoil[['pressure']].to_numpy().reshape(-1,1)\n"
   ]
  },
  {
   "cell_type": "markdown",
   "metadata": {},
   "source": [
    "Apply your `run_k_fold_cross_validation` to the airfoil data, with `X` being the first five columns of the data and `T` being the last column, the 'pressure'. \n",
    "\n",
    "Here is an example run.  You must try more neural network architectures.  Keep the following points in mind when you choose parameter values to try:\n",
    "* Larger networks will require more epochs of training to converge.\n",
    "* Large learning rates could limit convergence, but small learning rates may take many more epochs than you have patience for.\n",
    "* Display results as a `pandas` `DataFrame` and in plots.  <font color=red>Your tabular results and plots must be described sufficiently.  If you struggle with judging this yourself, you can consider 10 sentences or more of discussion to be sufficient, but 9 perceptive sentences are better than 10 or more sentences of non-analytical fluff.</font>\n",
    "* Name the columns of your `DataFrame` result to be `columns=('Arch', 'Train RMSE', 'Validate RMSE', 'Test RMSE'))`"
   ]
  },
  {
   "cell_type": "code",
   "execution_count": 156,
   "metadata": {},
   "outputs": [
    {
     "data": {
      "text/plain": [
       "((1503, 5), (1503, 1))"
      ]
     },
     "execution_count": 156,
     "metadata": {},
     "output_type": "execute_result"
    }
   ],
   "source": [
    "X.shape, T.shape"
   ]
  },
  {
   "cell_type": "markdown",
   "metadata": {},
   "source": [
    "# Given Architecture"
   ]
  },
  {
   "cell_type": "code",
   "execution_count": 157,
   "metadata": {},
   "outputs": [
    {
     "name": "stdout",
     "output_type": "stream",
     "text": [
      "Took 0.00 hours\n"
     ]
    },
    {
     "data": {
      "text/html": [
       "<div>\n",
       "<style scoped>\n",
       "    .dataframe tbody tr th:only-of-type {\n",
       "        vertical-align: middle;\n",
       "    }\n",
       "\n",
       "    .dataframe tbody tr th {\n",
       "        vertical-align: top;\n",
       "    }\n",
       "\n",
       "    .dataframe thead th {\n",
       "        text-align: right;\n",
       "    }\n",
       "</style>\n",
       "<table border=\"1\" class=\"dataframe\">\n",
       "  <thead>\n",
       "    <tr style=\"text-align: right;\">\n",
       "      <th></th>\n",
       "      <th>Arch</th>\n",
       "      <th>Train RMSE</th>\n",
       "      <th>Validate RMSE</th>\n",
       "      <th>Test RMSE</th>\n",
       "    </tr>\n",
       "  </thead>\n",
       "  <tbody>\n",
       "    <tr>\n",
       "      <th>0</th>\n",
       "      <td>[]</td>\n",
       "      <td>4.759131</td>\n",
       "      <td>4.874024</td>\n",
       "      <td>4.877483</td>\n",
       "    </tr>\n",
       "    <tr>\n",
       "      <th>1</th>\n",
       "      <td>[1]</td>\n",
       "      <td>4.538467</td>\n",
       "      <td>4.580084</td>\n",
       "      <td>4.575337</td>\n",
       "    </tr>\n",
       "    <tr>\n",
       "      <th>2</th>\n",
       "      <td>[5]</td>\n",
       "      <td>3.904525</td>\n",
       "      <td>4.064301</td>\n",
       "      <td>4.020540</td>\n",
       "    </tr>\n",
       "    <tr>\n",
       "      <th>3</th>\n",
       "      <td>[200, 200]</td>\n",
       "      <td>1.090950</td>\n",
       "      <td>2.159286</td>\n",
       "      <td>2.182639</td>\n",
       "    </tr>\n",
       "  </tbody>\n",
       "</table>\n",
       "</div>"
      ],
      "text/plain": [
       "         Arch  Train RMSE  Validate RMSE  Test RMSE\n",
       "0          []    4.759131       4.874024   4.877483\n",
       "1         [1]    4.538467       4.580084   4.575337\n",
       "2         [5]    3.904525       4.064301   4.020540\n",
       "3  [200, 200]    1.090950       2.159286   2.182639"
      ]
     },
     "execution_count": 157,
     "metadata": {},
     "output_type": "execute_result"
    }
   ],
   "source": [
    "torch.manual_seed(42)\n",
    "np.random.seed(42)\n",
    "\n",
    "import time\n",
    "start = time.time()\n",
    "\n",
    "results = run_k_fold_cross_validation(X, T, 5,\n",
    "                                      [[], [1], [5], [200, 200]],\n",
    "                                        200, 0.01, 'tanh')\n",
    "\n",
    "elapsed = (time.time() - start) / 60/ 60\n",
    "print(f'Took {elapsed:.2f} hours')\n",
    "results"
   ]
  },
  {
   "cell_type": "markdown",
   "metadata": {},
   "source": [
    "Here is a handy function to plot the RMSEs you have in your results table.  You may use this function to plot your results.  Remember to describe what you see."
   ]
  },
  {
   "cell_type": "code",
   "execution_count": 158,
   "metadata": {},
   "outputs": [],
   "source": [
    "def plot_results(results):\n",
    "    errors = results.iloc[:, 1:].values\n",
    "    archs = results.iloc[:, 0].values\n",
    "    archs = [str(ar) for ar in archs]\n",
    "\n",
    "    plt.plot(archs, errors, 'o-')\n",
    "    plt.legend(('Train', 'Validate', 'Test'))\n",
    "    plt.ylabel('RMSE')\n",
    "    plt.xticks(range(errors.shape[0]), archs, rotation=45, ha='right')\n",
    "    plt.tight_layout()"
   ]
  },
  {
   "cell_type": "code",
   "execution_count": 159,
   "metadata": {},
   "outputs": [
    {
     "data": {
      "image/png": "[encoded data removed]",
      "text/plain": [
       "<Figure size 432x288 with 1 Axes>"
      ]
     },
     "metadata": {
      "needs_background": "light"
     },
     "output_type": "display_data"
    }
   ],
   "source": [
    "plot_results(results)"
   ]
  },
  {
   "cell_type": "markdown",
   "metadata": {},
   "source": [
    "In the given architecture, we can see an increase in performance as the number of hidden layers increases. This example does not have large enough hidden layer to see if there is a decrease in performance after a certain point."
   ]
  },
  {
   "cell_type": "markdown",
   "metadata": {},
   "source": [
    " # More Hidden Layers"
   ]
  },
  {
   "cell_type": "code",
   "execution_count": 160,
   "metadata": {},
   "outputs": [
    {
     "name": "stdout",
     "output_type": "stream",
     "text": [
      "Took 0.00 hours\n"
     ]
    },
    {
     "data": {
      "image/png": "[encoded data removed]",
      "text/plain": [
       "<Figure size 432x288 with 1 Axes>"
      ]
     },
     "metadata": {
      "needs_background": "light"
     },
     "output_type": "display_data"
    }
   ],
   "source": [
    "torch.manual_seed(42)\n",
    "np.random.seed(42)\n",
    "\n",
    "import time\n",
    "start = time.time()\n",
    "\n",
    "results = run_k_fold_cross_validation(X, T, 5,\n",
    "                                      [[], [1], [5], [10,10], [50,50], [100,100], [200, 200], [300,300], [500,500]],\n",
    "                                        200, 0.01, 'tanh')\n",
    "\n",
    "elapsed = (time.time() - start) / 60/ 60\n",
    "print(f'Took {elapsed:.2f} hours')\n",
    "results\n",
    "\n",
    "def plot_results(results):\n",
    "    errors = results.iloc[:, 1:].values\n",
    "    archs = results.iloc[:, 0].values\n",
    "    archs = [str(ar) for ar in archs]\n",
    "\n",
    "    plt.plot(archs, errors, 'o-')\n",
    "    plt.legend(('Train', 'Validate', 'Test'))\n",
    "    plt.ylabel('RMSE')\n",
    "    plt.xticks(range(errors.shape[0]), archs, rotation=45, ha='right')\n",
    "    plt.tight_layout()\n",
    "\n",
    "plot_results(results)"
   ]
  },
  {
   "cell_type": "markdown",
   "metadata": {},
   "source": [
    "In this example more hidden layers are added. We can see the plateu of performance after about 100 hidden layers and 100 hidden units. There is a slight decrese in performance as the hidden layers increase, which can suggest the data is not finding the local minimum and converging."
   ]
  },
  {
   "cell_type": "markdown",
   "metadata": {},
   "source": [
    "# More Epochs and More Hidden Layers"
   ]
  },
  {
   "cell_type": "code",
   "execution_count": 165,
   "metadata": {},
   "outputs": [
    {
     "name": "stdout",
     "output_type": "stream",
     "text": [
      "Took 0.05 hours\n"
     ]
    },
    {
     "data": {
      "image/png": "[encoded data removed]",
      "text/plain": [
       "<Figure size 432x288 with 1 Axes>"
      ]
     },
     "metadata": {
      "needs_background": "light"
     },
     "output_type": "display_data"
    }
   ],
   "source": [
    "torch.manual_seed(42)\n",
    "np.random.seed(42)\n",
    "\n",
    "import time\n",
    "start = time.time()\n",
    "\n",
    "results2 = run_k_fold_cross_validation(X, T, 5,\n",
    "                                      [[], [1], [5], [10,10], [50,50], [100,100], [200, 200], [300,300], [500,500]],\n",
    "                                        5000, 0.01, 'tanh')\n",
    "\n",
    "elapsed = (time.time() - start) / 60/ 60\n",
    "print(f'Took {elapsed:.2f} hours')\n",
    "results\n",
    "\n",
    "def plot_results(results):\n",
    "    errors = results.iloc[:, 1:].values\n",
    "    archs = results.iloc[:, 0].values\n",
    "    archs = [str(ar) for ar in archs]\n",
    "\n",
    "    plt.plot(archs, errors, 'o-')\n",
    "    plt.legend(('Train', 'Validate', 'Test'))\n",
    "    plt.ylabel('RMSE')\n",
    "    plt.xticks(range(errors.shape[0]), archs, rotation=45, ha='right')\n",
    "    plt.tight_layout()\n",
    "\n",
    "plot_results(results2)"
   ]
  },
  {
   "cell_type": "code",
   "execution_count": 166,
   "metadata": {},
   "outputs": [
    {
     "data": {
      "text/html": [
       "<div>\n",
       "<style scoped>\n",
       "    .dataframe tbody tr th:only-of-type {\n",
       "        vertical-align: middle;\n",
       "    }\n",
       "\n",
       "    .dataframe tbody tr th {\n",
       "        vertical-align: top;\n",
       "    }\n",
       "\n",
       "    .dataframe thead th {\n",
       "        text-align: right;\n",
       "    }\n",
       "</style>\n",
       "<table border=\"1\" class=\"dataframe\">\n",
       "  <thead>\n",
       "    <tr style=\"text-align: right;\">\n",
       "      <th></th>\n",
       "      <th>Arch</th>\n",
       "      <th>Train RMSE</th>\n",
       "      <th>Validate RMSE</th>\n",
       "      <th>Test RMSE</th>\n",
       "    </tr>\n",
       "  </thead>\n",
       "  <tbody>\n",
       "    <tr>\n",
       "      <th>0</th>\n",
       "      <td>[]</td>\n",
       "      <td>0.240450</td>\n",
       "      <td>0.476701</td>\n",
       "      <td>0.476701</td>\n",
       "    </tr>\n",
       "    <tr>\n",
       "      <th>1</th>\n",
       "      <td>[1]</td>\n",
       "      <td>0.076056</td>\n",
       "      <td>0.294720</td>\n",
       "      <td>0.299493</td>\n",
       "    </tr>\n",
       "    <tr>\n",
       "      <th>2</th>\n",
       "      <td>[5]</td>\n",
       "      <td>0.002463</td>\n",
       "      <td>0.168637</td>\n",
       "      <td>0.162919</td>\n",
       "    </tr>\n",
       "    <tr>\n",
       "      <th>3</th>\n",
       "      <td>[10, 10]</td>\n",
       "      <td>0.000531</td>\n",
       "      <td>0.255637</td>\n",
       "      <td>0.252275</td>\n",
       "    </tr>\n",
       "    <tr>\n",
       "      <th>4</th>\n",
       "      <td>[50, 50]</td>\n",
       "      <td>0.003415</td>\n",
       "      <td>0.276615</td>\n",
       "      <td>0.269333</td>\n",
       "    </tr>\n",
       "    <tr>\n",
       "      <th>5</th>\n",
       "      <td>[100, 100]</td>\n",
       "      <td>0.005351</td>\n",
       "      <td>0.454100</td>\n",
       "      <td>0.455766</td>\n",
       "    </tr>\n",
       "    <tr>\n",
       "      <th>6</th>\n",
       "      <td>[200, 200]</td>\n",
       "      <td>0.001353</td>\n",
       "      <td>0.372930</td>\n",
       "      <td>0.382545</td>\n",
       "    </tr>\n",
       "    <tr>\n",
       "      <th>7</th>\n",
       "      <td>[300, 300]</td>\n",
       "      <td>0.045843</td>\n",
       "      <td>0.597415</td>\n",
       "      <td>0.648337</td>\n",
       "    </tr>\n",
       "    <tr>\n",
       "      <th>8</th>\n",
       "      <td>[500, 500]</td>\n",
       "      <td>0.011237</td>\n",
       "      <td>0.697821</td>\n",
       "      <td>0.687440</td>\n",
       "    </tr>\n",
       "  </tbody>\n",
       "</table>\n",
       "</div>"
      ],
      "text/plain": [
       "         Arch  Train RMSE  Validate RMSE  Test RMSE\n",
       "0          []    0.240450       0.476701   0.476701\n",
       "1         [1]    0.076056       0.294720   0.299493\n",
       "2         [5]    0.002463       0.168637   0.162919\n",
       "3    [10, 10]    0.000531       0.255637   0.252275\n",
       "4    [50, 50]    0.003415       0.276615   0.269333\n",
       "5  [100, 100]    0.005351       0.454100   0.455766\n",
       "6  [200, 200]    0.001353       0.372930   0.382545\n",
       "7  [300, 300]    0.045843       0.597415   0.648337\n",
       "8  [500, 500]    0.011237       0.697821   0.687440"
      ]
     },
     "execution_count": 166,
     "metadata": {},
     "output_type": "execute_result"
    }
   ],
   "source": [
    "results2"
   ]
  },
  {
   "cell_type": "markdown",
   "metadata": {},
   "source": [
    "In this model, we show a much larger epoch and hidden layers. The model performs well up to 5 hidden layers, but after that performance of test and validate data have a dramatic decrease in performance. This could be partly from the model overfitting the data. "
   ]
  },
  {
   "cell_type": "markdown",
   "metadata": {},
   "source": [
    "# Smaller Learning Rate, More Hidden Layers and More Epochs"
   ]
  },
  {
   "cell_type": "code",
   "execution_count": 167,
   "metadata": {},
   "outputs": [
    {
     "name": "stdout",
     "output_type": "stream",
     "text": [
      "Took 0.01 hours\n"
     ]
    },
    {
     "data": {
      "image/png": "[encoded data removed]",
      "text/plain": [
       "<Figure size 432x288 with 1 Axes>"
      ]
     },
     "metadata": {
      "needs_background": "light"
     },
     "output_type": "display_data"
    }
   ],
   "source": [
    "torch.manual_seed(42)\n",
    "np.random.seed(42)\n",
    "\n",
    "import time\n",
    "start = time.time()\n",
    "\n",
    "results3 = run_k_fold_cross_validation(X, T, 5,\n",
    "                                      [[], [1], [5], [10,10], [50,50], [100,100], [200, 200], [300,300], [500,500]],\n",
    "                                        1000, 0.0001, 'tanh')\n",
    "\n",
    "elapsed = (time.time() - start) / 60/ 60\n",
    "print(f'Took {elapsed:.2f} hours')\n",
    "results\n",
    "\n",
    "def plot_results(results):\n",
    "    errors = results.iloc[:, 1:].values\n",
    "    archs = results.iloc[:, 0].values\n",
    "    archs = [str(ar) for ar in archs]\n",
    "\n",
    "    plt.plot(archs, errors, 'o-')\n",
    "    plt.legend(('Train', 'Validate', 'Test'))\n",
    "    plt.ylabel('RMSE')\n",
    "    plt.xticks(range(errors.shape[0]), archs, rotation=45, ha='right')\n",
    "    plt.tight_layout()\n",
    "\n",
    "plot_results(results3)"
   ]
  },
  {
   "cell_type": "code",
   "execution_count": 168,
   "metadata": {},
   "outputs": [
    {
     "data": {
      "text/html": [
       "<div>\n",
       "<style scoped>\n",
       "    .dataframe tbody tr th:only-of-type {\n",
       "        vertical-align: middle;\n",
       "    }\n",
       "\n",
       "    .dataframe tbody tr th {\n",
       "        vertical-align: top;\n",
       "    }\n",
       "\n",
       "    .dataframe thead th {\n",
       "        text-align: right;\n",
       "    }\n",
       "</style>\n",
       "<table border=\"1\" class=\"dataframe\">\n",
       "  <thead>\n",
       "    <tr style=\"text-align: right;\">\n",
       "      <th></th>\n",
       "      <th>Arch</th>\n",
       "      <th>Train RMSE</th>\n",
       "      <th>Validate RMSE</th>\n",
       "      <th>Test RMSE</th>\n",
       "    </tr>\n",
       "  </thead>\n",
       "  <tbody>\n",
       "    <tr>\n",
       "      <th>0</th>\n",
       "      <td>[]</td>\n",
       "      <td>0.428940</td>\n",
       "      <td>0.546243</td>\n",
       "      <td>0.536467</td>\n",
       "    </tr>\n",
       "    <tr>\n",
       "      <th>1</th>\n",
       "      <td>[1]</td>\n",
       "      <td>0.721792</td>\n",
       "      <td>1.013335</td>\n",
       "      <td>0.850240</td>\n",
       "    </tr>\n",
       "    <tr>\n",
       "      <th>2</th>\n",
       "      <td>[5]</td>\n",
       "      <td>0.621670</td>\n",
       "      <td>0.699719</td>\n",
       "      <td>0.716273</td>\n",
       "    </tr>\n",
       "    <tr>\n",
       "      <th>3</th>\n",
       "      <td>[10, 10]</td>\n",
       "      <td>0.294663</td>\n",
       "      <td>0.529789</td>\n",
       "      <td>0.527960</td>\n",
       "    </tr>\n",
       "    <tr>\n",
       "      <th>4</th>\n",
       "      <td>[50, 50]</td>\n",
       "      <td>0.188451</td>\n",
       "      <td>0.346288</td>\n",
       "      <td>0.342826</td>\n",
       "    </tr>\n",
       "    <tr>\n",
       "      <th>5</th>\n",
       "      <td>[100, 100]</td>\n",
       "      <td>0.057864</td>\n",
       "      <td>0.348876</td>\n",
       "      <td>0.347152</td>\n",
       "    </tr>\n",
       "    <tr>\n",
       "      <th>6</th>\n",
       "      <td>[200, 200]</td>\n",
       "      <td>0.068407</td>\n",
       "      <td>0.381446</td>\n",
       "      <td>0.380375</td>\n",
       "    </tr>\n",
       "    <tr>\n",
       "      <th>7</th>\n",
       "      <td>[300, 300]</td>\n",
       "      <td>0.040200</td>\n",
       "      <td>0.340764</td>\n",
       "      <td>0.339215</td>\n",
       "    </tr>\n",
       "    <tr>\n",
       "      <th>8</th>\n",
       "      <td>[500, 500]</td>\n",
       "      <td>0.016777</td>\n",
       "      <td>0.227647</td>\n",
       "      <td>0.226890</td>\n",
       "    </tr>\n",
       "  </tbody>\n",
       "</table>\n",
       "</div>"
      ],
      "text/plain": [
       "         Arch  Train RMSE  Validate RMSE  Test RMSE\n",
       "0          []    0.428940       0.546243   0.536467\n",
       "1         [1]    0.721792       1.013335   0.850240\n",
       "2         [5]    0.621670       0.699719   0.716273\n",
       "3    [10, 10]    0.294663       0.529789   0.527960\n",
       "4    [50, 50]    0.188451       0.346288   0.342826\n",
       "5  [100, 100]    0.057864       0.348876   0.347152\n",
       "6  [200, 200]    0.068407       0.381446   0.380375\n",
       "7  [300, 300]    0.040200       0.340764   0.339215\n",
       "8  [500, 500]    0.016777       0.227647   0.226890"
      ]
     },
     "execution_count": 168,
     "metadata": {},
     "output_type": "execute_result"
    }
   ],
   "source": [
    "results3"
   ]
  },
  {
   "cell_type": "markdown",
   "metadata": {},
   "source": [
    "This is the best model performance I have come up with. As the hidden layers increase, the model performs better. The smaller learning rate and high epochs gives the model enough iterations while not overfitting. One draw back to this model is the computational heavy nature of a small learning rate, large number of epochs, and lots of hidden layers. If the computational power is there, this is the best model."
   ]
  },
  {
   "cell_type": "markdown",
   "metadata": {},
   "source": [
    "# Grading and Check-In"
   ]
  },
  {
   "cell_type": "markdown",
   "metadata": {},
   "source": [
    "You will score 90 points if your `train`, `use`, an `run_k_fold_cross_validation` functions are defined correctly. You can test this grading process yourself by downloading [A3grader.zip](https://www.cs.colostate.edu/~cs445/notebooks/A3grader.zip) and extracting `A3grader.py` parallel to this notebook.  We recommend keeping this notebook and the grader script in a dedicated folder with *just those two files.* Run the code in the following cell to see an example grading run.  If your functions are defined correctly, you should see a score of 90/90.  The remaining 10 points will be based on 1) other testing and the results you obtain, and 2) your discussions."
   ]
  },
  {
   "cell_type": "code",
   "execution_count": 164,
   "metadata": {},
   "outputs": [
    {
     "name": "stdout",
     "output_type": "stream",
     "text": [
      "\n",
      "======================= Code Execution =======================\n",
      "\n",
      "Extracting python code from notebook named 'Avery-A3.ipynb' and storing in notebookcode.py\n",
      "Removing all statements that are not function or class defs or import statements.\n",
      "\n",
      "Testing\n",
      "    torch.manual_seed(142)\n",
      "\n",
      "    X = np.arange(40).reshape(20, 2)\n",
      "    T = np.log(1 + X[:, 0:1])\n",
      "\n",
      "    nnet = NNet(X.shape[1], [10, 10], T.shape[1], act_func='relu')\n",
      "    nnet.train(X, T, 100, 0.01, verbose=False)\n",
      "\n",
      "    first_Y = nnet.use(X)[0, 0]\n",
      "\n",
      "\n",
      "--- 30/30 points. Returned correct value.\n",
      "\n",
      "Testing\n",
      "    torch.manual_seed(142)\n",
      "\n",
      "    X = np.arange(40).reshape(20, 2)\n",
      "    T = np.log(1 + X[:, 0:1])\n",
      "\n",
      "    nnet = NNet(X.shape[1], [10, 10], T.shape[1], act_func='tanh')  # Using tanh\n",
      "    nnet.train(X, T, 100, 0.01, verbose=False)\n",
      "\n",
      "    first_Y = nnet.use(X)[0, 0]\n",
      "\n",
      "\n",
      "--- 30/30 points. Returned correct value.\n",
      "\n",
      "Testing\n",
      "    torch.manual_seed(400)\n",
      "    np.random.seed(400)\n",
      "\n",
      "    X = np.arange(40).reshape(20, 2)\n",
      "    T = np.log(1 + X[:, 0:1])\n",
      "    \n",
      "    results = run_k_fold_cross_validation(X, T, 3,\n",
      "                                          [[], [1], [20], [40, 40]],\n",
      "                                          1000, 0.01, 'tanh')\n",
      "\n",
      "    print(results)\n",
      "\n",
      "    # This will take a minute or two....\n",
      "\n",
      "\n",
      "       Arch  Train RMSE  Validate RMSE  Test RMSE\n",
      "0        []    0.286660       0.476284   0.476284\n",
      "1       [1]    0.111917       0.402839   0.407813\n",
      "2      [20]    0.005308       0.301842   0.294546\n",
      "3  [40, 40]    0.002298       0.315681   0.317340\n",
      "\n",
      "--- 30/30 points. Returned correct value.\n",
      "\n",
      "======================================================================\n",
      "A3 Execution Grade is 90 / 90\n",
      "======================================================================\n",
      "\n",
      " __ / 10 Based on other testing and the results you obtain and your discussions.\n",
      "\n",
      "======================================================================\n",
      "A3 FINAL GRADE is  _  / 100\n",
      "======================================================================\n",
      "\n",
      "Extra Credit:\n",
      "\n",
      "1. Add a keyword argument gpu that is False by default. If set to True, move data and \n",
      "   neural network model to the GPU and train and test it there. Compare total execution\n",
      "    time without and with the use of the GPU.\n",
      "\n",
      "2. Find another data set, not used previously in an assignment or in lecture, and repeat\n",
      "   your training experiment without and with GPU on this new data.\n",
      "\n",
      "A3 EXTRA CREDIT is 0 / 2\n"
     ]
    }
   ],
   "source": [
    "%run -i A3grader.py"
   ]
  },
  {
   "cell_type": "markdown",
   "metadata": {},
   "source": [
    "Unlike A2, A3 **should be completed individually**.  Name your notebook as `Lastname-A3.ipynb` with Lastname being your last name, and then save this notebook and check it in at the A3 assignment link in our Canvas web page."
   ]
  },
  {
   "cell_type": "markdown",
   "metadata": {},
   "source": [
    "# Extra Credit"
   ]
  },
  {
   "cell_type": "markdown",
   "metadata": {},
   "source": [
    "Earn up to 10 extra credit points on this assignment.\n",
    "\n",
    "1. Add a keyword argument `gpu` that is `False` by default.  If set to `True`, move data and neural network model to the GPU and train and test it there.  Compare total execution time without and with the use of the GPU.  You may need to use one of the campus GPU machines for this.\n",
    "2. Find another data set, not used previously in an assignment or in lecture, and repeat your training experiment without and with GPU on this new data.\n",
    "\n",
    "Describe all results.  You can earn 5 points for doing (1) and another 5 for doing (2)."
   ]
  },
  {
   "cell_type": "code",
   "execution_count": null,
   "metadata": {},
   "outputs": [],
   "source": []
  }
 ],
 "metadata": {
  "kernelspec": {
   "display_name": "Python 3",
   "language": "python",
   "name": "python3"
  },
  "language_info": {
   "codemirror_mode": {
    "name": "ipython",
    "version": 3
   },
   "file_extension": ".py",
   "mimetype": "text/x-python",
   "name": "python",
   "nbconvert_exporter": "python",
   "pygments_lexer": "ipython3",
   "version": "3.6.8"
  },
  "toc": {
   "base_numbering": 1,
   "nav_menu": {},
   "number_sections": true,
   "sideBar": true,
   "skip_h1_title": false,
   "title_cell": "Table of Contents",
   "title_sidebar": "Contents",
   "toc_cell": false,
   "toc_position": {},
   "toc_section_display": true,
   "toc_window_display": true
  }
 },
 "nbformat": 4,
 "nbformat_minor": 4
}
